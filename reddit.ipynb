{
 "cells": [
  {
   "cell_type": "code",
   "execution_count": 1,
   "metadata": {},
   "outputs": [],
   "source": [
    "from bs4 import BeautifulSoup\n",
    "import requests, csv"
   ]
  },
  {
   "cell_type": "code",
   "execution_count": 2,
   "metadata": {},
   "outputs": [
    {
     "name": "stdout",
     "output_type": "stream",
     "text": [
      "['Bitcoin ', 'Ethereum ', 'FintruX Network ', 'Binance Coin ', 'Cardano ', 'Crypto.com Coin ', 'Algorand ', 'XRP ', 'Grace Period Token ', 'OG Fan Token ', 'Donut ', 'Dogecoin ', 'Polygon ', 'Polkadot ', 'ARbit ', 'MoonTools ', 'Litecoin ', 'Solana ', 'SHIBA INU ', 'Cosmos ', 'Terra ', 'FTX Token ', 'MM Token ', 'Atletico De Madrid Fan Token ', 'YOU COIN ', 'Tether ', 'DEX ', 'Basic Attention Token ', 'Monero ', 'APR Coin ', 'Credits ', 'Commerce Data Connection ', 'Alchemy Pay ', 'Everest ', 'Safe Haven ', 'MEXC Token ', 'Lukki Operating Token ', 'BitUP Token ', 'IDCM Token ', 'Stellar ', 'Harmony ', 'LINK ', 'Hedera Hashgraph ', 'OMG Network ', 'Anyswap ', 'Loopring ', 'Avalanche ', 'Diligence ', 'GameStop tokenized stock FTX ', 'PancakeSwap ', 'Sendvibe ', 'APY.Finance ', 'Token CashPay ', 'Bitvolt ', 'Fantom ', 'Asura Coin ', 'Chainlink ', 'JavaScript Token ', 'Affil Coin ', 'DeVault ', 'Propy ', 'CPUchain ', 'All.me ', 'USD Coin ', 'Cartesi ', 'GoldBlocks ', 'ForTube ', 'Artfinity ', 'AMATEN ', 'Everipedia ', 'Amp ', 'Helium ', 'OFIN Token ', 'TRON ', 'Alt.Estate token ', 'DAO Maker ', 'Cometh ', 'TransferCoin ', 'Channels ', 'GM Holding ', 'CONUN ', 'GET Protocol ', 'Oasis Network ', 'FunFair ', 'Tessla Coin ', 'RPICoin ', 'Nervos Network ', 'Global Rental Token ', 'Bitcoin Confidential ', 'Ergo ', 'Cryptojacks ', 'Internet Computer\\r\\n ', 'BnkToTheFuture ', 'HARD Protocol ', 'Limitless VIP ', 'Vid ', 'Square tokenized stock FTX ', 'View ', 'Carry ', 'Ulord']\n"
     ]
    }
   ],
   "source": [
    "url = 'https://apewisdom.io/all-crypto/'\n",
    "page = requests.get(url)\n",
    "soup = BeautifulSoup(page.content,'html.parser')\n",
    "criptos = soup.find_all('div',class_='company-name')\n",
    "criptos = str(criptos)\n",
    "criptos = criptos.replace('<div class=\"company-name\">','|')\n",
    "criptos = criptos.replace('</div>,','')\n",
    "criptos = criptos.replace('</div>]','')\n",
    "criptos = criptos.replace('[','')\n",
    "criptoclean = criptos.split('|')\n",
    "criptoclean.pop(0)               #elimino el primer valor que no es significante\n",
    "print (criptoclean)\n",
    "with open('reddit.csv', 'w', newline='') as csvfile:\n",
    "    writer = csv.writer(csvfile,delimiter=',')\n",
    "    writer.writerow(criptoclean)"
   ]
  },
  {
   "attachments": {},
   "cell_type": "markdown",
   "metadata": {},
   "source": [
    "Si solo me interesan las 3 mas mencionadas entonces le agrego esta parte despues de criptoclean.pop(0)\n",
    "list = []\n",
    "list.append(criptoclean[0])\n",
    "list.append(criptoclean[1])    \n",
    "list.append(criptoclean[2]) \n",
    "print(list)            "
   ]
  }
 ],
 "metadata": {
  "kernelspec": {
   "display_name": "Python 3",
   "language": "python",
   "name": "python3"
  },
  "language_info": {
   "codemirror_mode": {
    "name": "ipython",
    "version": 3
   },
   "file_extension": ".py",
   "mimetype": "text/x-python",
   "name": "python",
   "nbconvert_exporter": "python",
   "pygments_lexer": "ipython3",
   "version": "3.11.3"
  },
  "orig_nbformat": 4
 },
 "nbformat": 4,
 "nbformat_minor": 2
}
